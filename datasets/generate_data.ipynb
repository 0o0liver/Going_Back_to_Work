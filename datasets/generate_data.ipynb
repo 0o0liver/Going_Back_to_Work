{
  "nbformat": 4,
  "nbformat_minor": 0,
  "metadata": {
    "colab": {
      "name": "generate_data.ipynb",
      "provenance": [],
      "authorship_tag": "ABX9TyMUvEjGi24HuglreKllvU7O",
      "include_colab_link": true
    },
    "kernelspec": {
      "name": "python3",
      "display_name": "Python 3"
    }
  },
  "cells": [
    {
      "cell_type": "markdown",
      "metadata": {
        "id": "view-in-github",
        "colab_type": "text"
      },
      "source": [
        "<a href=\"https://colab.research.google.com/github/0o0liver/Going_Back_to_Work/blob/master/datasets/generate_data.ipynb\" target=\"_parent\"><img src=\"https://colab.research.google.com/assets/colab-badge.svg\" alt=\"Open In Colab\"/></a>"
      ]
    },
    {
      "cell_type": "markdown",
      "metadata": {
        "id": "lbLC0Vj40Hjd",
        "colab_type": "text"
      },
      "source": [
        "\n",
        "#This notebook only shows result in dataframes, it does not produce any data file."
      ]
    },
    {
      "cell_type": "markdown",
      "metadata": {
        "id": "EejdIvdbqnvD",
        "colab_type": "text"
      },
      "source": [
        "# Install dependencies"
      ]
    },
    {
      "cell_type": "code",
      "metadata": {
        "id": "-q7w96qJgxMc",
        "colab_type": "code",
        "colab": {}
      },
      "source": [
        "# Install spark-related dependencies\n",
        "!apt-get install openjdk-8-jdk-headless -qq > /dev/null\n",
        "!wget -q https://downloads.apache.org/spark/spark-2.4.5/spark-2.4.5-bin-hadoop2.7.tgz\n",
        "!tar xf spark-2.4.5-bin-hadoop2.7.tgz\n",
        "!pip install -q findspark\n",
        "!pip install pyspark\n",
        "\n",
        "# Set up required environment variables\n",
        "import os\n",
        "os.environ[\"JAVA_HOME\"] = \"/usr/lib/jvm/java-8-openjdk-amd64\"\n",
        "os.environ[\"SPARK_HOME\"] = \"/content/spark-2.4.5-bin-hadoop2.7\"\n",
        "\n",
        "import findspark\n",
        "findspark.init(\"spark-2.4.5-bin-hadoop2.7\")\n",
        "from pyspark.sql import SparkSession\n",
        "spark = SparkSession.builder.master(\"local[*]\").getOrCreate()"
      ],
      "execution_count": 0,
      "outputs": []
    },
    {
      "cell_type": "markdown",
      "metadata": {
        "id": "fMFTXJH-qvjD",
        "colab_type": "text"
      },
      "source": [
        "# Data download"
      ]
    },
    {
      "cell_type": "code",
      "metadata": {
        "id": "qXbJZ57ag4x5",
        "colab_type": "code",
        "colab": {}
      },
      "source": [
        "# 2010 data\n",
        "!wget https://s3.amazonaws.com/nyc-tlc/trip+data/yellow_tripdata_2010-01.csv -P data\n",
        "!wget https://s3.amazonaws.com/nyc-tlc/trip+data/yellow_tripdata_2010-02.csv -P data\n",
        "!wget https://s3.amazonaws.com/nyc-tlc/trip+data/yellow_tripdata_2010-03.csv -P data\n",
        "!wget https://s3.amazonaws.com/nyc-tlc/trip+data/yellow_tripdata_2010-04.csv -P data\n",
        "!wget https://s3.amazonaws.com/nyc-tlc/trip+data/yellow_tripdata_2010-05.csv -P data\n",
        "!wget https://s3.amazonaws.com/nyc-tlc/trip+data/yellow_tripdata_2010-06.csv -P data\n",
        "!wget https://s3.amazonaws.com/nyc-tlc/trip+data/yellow_tripdata_2010-07.csv -P data\n",
        "!wget https://s3.amazonaws.com/nyc-tlc/trip+data/yellow_tripdata_2010-08.csv -P data\n",
        "!wget https://s3.amazonaws.com/nyc-tlc/trip+data/yellow_tripdata_2010-09.csv -P data\n",
        "!wget https://s3.amazonaws.com/nyc-tlc/trip+data/yellow_tripdata_2010-10.csv -P data\n",
        "!wget https://s3.amazonaws.com/nyc-tlc/trip+data/yellow_tripdata_2010-11.csv -P data\n",
        "!wget https://s3.amazonaws.com/nyc-tlc/trip+data/yellow_tripdata_2010-12.csv -P data\n",
        "# 2011 data\n",
        "!wget https://s3.amazonaws.com/nyc-tlc/trip+data/yellow_tripdata_2011-01.csv -P data\n",
        "!wget https://s3.amazonaws.com/nyc-tlc/trip+data/yellow_tripdata_2011-02.csv -P data\n",
        "!wget https://s3.amazonaws.com/nyc-tlc/trip+data/yellow_tripdata_2011-03.csv -P data\n",
        "!wget https://s3.amazonaws.com/nyc-tlc/trip+data/yellow_tripdata_2011-04.csv -P data\n",
        "!wget https://s3.amazonaws.com/nyc-tlc/trip+data/yellow_tripdata_2011-05.csv -P data\n",
        "!wget https://s3.amazonaws.com/nyc-tlc/trip+data/yellow_tripdata_2011-06.csv -P data\n",
        "!wget https://s3.amazonaws.com/nyc-tlc/trip+data/yellow_tripdata_2011-07.csv -P data\n",
        "!wget https://s3.amazonaws.com/nyc-tlc/trip+data/yellow_tripdata_2011-08.csv -P data\n",
        "!wget https://s3.amazonaws.com/nyc-tlc/trip+data/yellow_tripdata_2011-09.csv -P data\n",
        "!wget https://s3.amazonaws.com/nyc-tlc/trip+data/yellow_tripdata_2011-10.csv -P data\n",
        "!wget https://s3.amazonaws.com/nyc-tlc/trip+data/yellow_tripdata_2011-11.csv -P data\n",
        "!wget https://s3.amazonaws.com/nyc-tlc/trip+data/yellow_tripdata_2011-12.csv -P data\n",
        "# 2012 data\n",
        "!wget https://s3.amazonaws.com/nyc-tlc/trip+data/yellow_tripdata_2012-01.csv -P data\n",
        "!wget https://s3.amazonaws.com/nyc-tlc/trip+data/yellow_tripdata_2012-02.csv -P data\n",
        "!wget https://s3.amazonaws.com/nyc-tlc/trip+data/yellow_tripdata_2012-03.csv -P data\n",
        "!wget https://s3.amazonaws.com/nyc-tlc/trip+data/yellow_tripdata_2012-04.csv -P data\n",
        "!wget https://s3.amazonaws.com/nyc-tlc/trip+data/yellow_tripdata_2012-05.csv -P data\n",
        "!wget https://s3.amazonaws.com/nyc-tlc/trip+data/yellow_tripdata_2012-06.csv -P data\n",
        "!wget https://s3.amazonaws.com/nyc-tlc/trip+data/yellow_tripdata_2012-07.csv -P data\n",
        "!wget https://s3.amazonaws.com/nyc-tlc/trip+data/yellow_tripdata_2012-08.csv -P data\n",
        "!wget https://s3.amazonaws.com/nyc-tlc/trip+data/yellow_tripdata_2012-09.csv -P data\n",
        "!wget https://s3.amazonaws.com/nyc-tlc/trip+data/yellow_tripdata_2012-10.csv -P data\n",
        "!wget https://s3.amazonaws.com/nyc-tlc/trip+data/yellow_tripdata_2012-11.csv -P data\n",
        "!wget https://s3.amazonaws.com/nyc-tlc/trip+data/yellow_tripdata_2012-12.csv -P data\n",
        "# 2013 data\n",
        "!wget https://s3.amazonaws.com/nyc-tlc/trip+data/yellow_tripdata_2013-01.csv -P data\n",
        "!wget https://s3.amazonaws.com/nyc-tlc/trip+data/yellow_tripdata_2013-02.csv -P data\n",
        "!wget https://s3.amazonaws.com/nyc-tlc/trip+data/yellow_tripdata_2013-03.csv -P data\n",
        "!wget https://s3.amazonaws.com/nyc-tlc/trip+data/yellow_tripdata_2013-04.csv -P data\n",
        "!wget https://s3.amazonaws.com/nyc-tlc/trip+data/yellow_tripdata_2013-05.csv -P data\n",
        "!wget https://s3.amazonaws.com/nyc-tlc/trip+data/yellow_tripdata_2013-06.csv -P data\n",
        "!wget https://s3.amazonaws.com/nyc-tlc/trip+data/yellow_tripdata_2013-07.csv -P data\n",
        "!wget https://s3.amazonaws.com/nyc-tlc/trip+data/yellow_tripdata_2013-08.csv -P data\n",
        "!wget https://s3.amazonaws.com/nyc-tlc/trip+data/yellow_tripdata_2013-09.csv -P data\n",
        "!wget https://s3.amazonaws.com/nyc-tlc/trip+data/yellow_tripdata_2013-10.csv -P data\n",
        "!wget https://s3.amazonaws.com/nyc-tlc/trip+data/yellow_tripdata_2013-11.csv -P data\n",
        "!wget https://s3.amazonaws.com/nyc-tlc/trip+data/yellow_tripdata_2013-12.csv -P data\n",
        "# 2014 data\n",
        "!wget https://s3.amazonaws.com/nyc-tlc/trip+data/yellow_tripdata_2014-01.csv -P data\n",
        "!wget https://s3.amazonaws.com/nyc-tlc/trip+data/yellow_tripdata_2014-02.csv -P data\n",
        "!wget https://s3.amazonaws.com/nyc-tlc/trip+data/yellow_tripdata_2014-03.csv -P data\n",
        "!wget https://s3.amazonaws.com/nyc-tlc/trip+data/yellow_tripdata_2014-04.csv -P data\n",
        "!wget https://s3.amazonaws.com/nyc-tlc/trip+data/yellow_tripdata_2014-05.csv -P data\n",
        "!wget https://s3.amazonaws.com/nyc-tlc/trip+data/yellow_tripdata_2014-06.csv -P data\n",
        "!wget https://s3.amazonaws.com/nyc-tlc/trip+data/yellow_tripdata_2014-07.csv -P data\n",
        "!wget https://s3.amazonaws.com/nyc-tlc/trip+data/yellow_tripdata_2014-08.csv -P data\n",
        "!wget https://s3.amazonaws.com/nyc-tlc/trip+data/yellow_tripdata_2014-09.csv -P data\n",
        "!wget https://s3.amazonaws.com/nyc-tlc/trip+data/yellow_tripdata_2014-10.csv -P data\n",
        "!wget https://s3.amazonaws.com/nyc-tlc/trip+data/yellow_tripdata_2014-11.csv -P data\n",
        "!wget https://s3.amazonaws.com/nyc-tlc/trip+data/yellow_tripdata_2014-12.csv -P data\n",
        "# 2015 data\n",
        "!wget https://s3.amazonaws.com/nyc-tlc/trip+data/yellow_tripdata_2015-01.csv -P data\n",
        "!wget https://s3.amazonaws.com/nyc-tlc/trip+data/yellow_tripdata_2015-02.csv -P data\n",
        "!wget https://s3.amazonaws.com/nyc-tlc/trip+data/yellow_tripdata_2015-03.csv -P data\n",
        "!wget https://s3.amazonaws.com/nyc-tlc/trip+data/yellow_tripdata_2015-04.csv -P data\n",
        "!wget https://s3.amazonaws.com/nyc-tlc/trip+data/yellow_tripdata_2015-05.csv -P data\n",
        "!wget https://s3.amazonaws.com/nyc-tlc/trip+data/yellow_tripdata_2015-06.csv -P data\n",
        "!wget https://s3.amazonaws.com/nyc-tlc/trip+data/yellow_tripdata_2015-07.csv -P data\n",
        "!wget https://s3.amazonaws.com/nyc-tlc/trip+data/yellow_tripdata_2015-08.csv -P data\n",
        "!wget https://s3.amazonaws.com/nyc-tlc/trip+data/yellow_tripdata_2015-09.csv -P data\n",
        "!wget https://s3.amazonaws.com/nyc-tlc/trip+data/yellow_tripdata_2015-10.csv -P data\n",
        "!wget https://s3.amazonaws.com/nyc-tlc/trip+data/yellow_tripdata_2015-11.csv -P data\n",
        "!wget https://s3.amazonaws.com/nyc-tlc/trip+data/yellow_tripdata_2015-12.csv -P data"
      ],
      "execution_count": 0,
      "outputs": []
    },
    {
      "cell_type": "code",
      "metadata": {
        "id": "c2wJ8rSvqL1v",
        "colab_type": "code",
        "colab": {}
      },
      "source": [
        "trips = spark.read.format(\"csv\").options(header=\"true\").load(\"/content/data\")"
      ],
      "execution_count": 0,
      "outputs": []
    },
    {
      "cell_type": "markdown",
      "metadata": {
        "id": "c1rLbDskrF7H",
        "colab_type": "text"
      },
      "source": [
        "# Library import"
      ]
    },
    {
      "cell_type": "code",
      "metadata": {
        "id": "7A2P4g0cq7_b",
        "colab_type": "code",
        "colab": {}
      },
      "source": [
        "from geopy.geocoders import Nominatim\n",
        "import pyspark.sql.functions as F\n",
        "from pyspark.sql.types import *"
      ],
      "execution_count": 0,
      "outputs": []
    },
    {
      "cell_type": "markdown",
      "metadata": {
        "id": "K6FuXdJErpB3",
        "colab_type": "text"
      },
      "source": [
        "# Execution"
      ]
    },
    {
      "cell_type": "code",
      "metadata": {
        "id": "_07MGGNpuyrh",
        "colab_type": "code",
        "colab": {}
      },
      "source": [
        "# geo locator agent\n",
        "geolocator = Nominatim(user_agent = \"going_bakc_to_work\")"
      ],
      "execution_count": 0,
      "outputs": []
    },
    {
      "cell_type": "code",
      "metadata": {
        "id": "xzn3gy0Eri7b",
        "colab_type": "code",
        "colab": {
          "base_uri": "https://localhost:8080/",
          "height": 459
        },
        "outputId": "be7a7e46-e276-45d7-d88f-d587923d21fd"
      },
      "source": [
        "# global variables\n",
        "query_addr = \"200 west street nyc\"\n",
        "target_location = geolocator.geocode(query_addr)\n",
        "target_box = list(map(float, target_location.raw[\"boundingbox\"]))\n",
        "start_lat = min(target_box[0], target_box[1])\n",
        "end_lat = max(target_box[0], target_box[1])\n",
        "start_lng = min(target_box[2], target_box[3])\n",
        "end_lng = max(target_box[2], target_box[3])\n",
        "\n",
        "# functions\n",
        "def filter_location(lat, lng):\n",
        "\t'''\n",
        "\tcheck if location in in target_box\n",
        "\t'''\n",
        "\tif start_lat <= float(lat) and float(lat) <= end_lat and start_lng <= float(lng) and float(lng) <= end_lng:\n",
        "\t\treturn True\n",
        "\treturn False\n",
        "\n",
        "# main\n",
        "filter_function = F.udf(filter_location, BooleanType())\n",
        "\n",
        "complete_result_df = trips.filter(filter_function(trips[\"dropoff_latitude\"], trips[\"dropoff_longitude\"])).select(\"dropoff_datetime\", \"dropoff_latitude\", \"dropoff_longitude\")\n",
        "\n",
        "complete_result_df.show()"
      ],
      "execution_count": 6,
      "outputs": [
        {
          "output_type": "stream",
          "text": [
            "+-------------------+------------------+-------------------+\n",
            "|   dropoff_datetime|  dropoff_latitude|  dropoff_longitude|\n",
            "+-------------------+------------------+-------------------+\n",
            "|2010-01-28 06:34:03|40.714632999999999|-74.013970999999998|\n",
            "|2010-01-07 07:58:00|40.715248000000003|-74.014277000000007|\n",
            "|2010-01-29 07:02:00|40.714512999999997|-74.014262000000002|\n",
            "|2010-01-20 07:17:16|40.714613999999997|-74.013966999999994|\n",
            "|2010-01-13 07:33:00|40.715119999999999|-74.014781999999997|\n",
            "|2010-01-25 06:59:23|40.714477000000002|-74.014071000000001|\n",
            "|2010-01-24 18:18:23|40.714978000000002|         -74.014032|\n",
            "|2010-01-04 06:29:59|40.714592000000003|-74.014331999999996|\n",
            "|2010-01-18 19:17:00|40.714517999999998|-74.014120000000005|\n",
            "|2010-01-05 05:16:00|40.714877000000001|-74.013975000000002|\n",
            "|2010-01-29 11:54:00|40.714252000000002|-74.014726999999993|\n",
            "|2010-01-28 09:35:00|40.714194999999997|-74.014690000000002|\n",
            "|2010-01-21 07:30:08|40.714494000000002|-74.014020000000002|\n",
            "|2010-01-29 09:55:00|40.714244999999998|         -74.014657|\n",
            "|2010-01-04 12:45:00|40.714196999999999|-74.014752000000001|\n",
            "|2010-01-12 14:15:30|40.714953000000001|-74.013966999999994|\n",
            "|2010-01-14 07:32:00|40.714422999999996|-74.014004999999997|\n",
            "|2010-01-13 11:43:00|40.714281999999997|-74.014903000000004|\n",
            "|2010-01-28 09:15:00|40.715057999999999|         -74.014882|\n",
            "|2010-01-29 08:56:25|40.714154000000001|         -74.014668|\n",
            "+-------------------+------------------+-------------------+\n",
            "only showing top 20 rows\n",
            "\n"
          ],
          "name": "stdout"
        }
      ]
    }
  ]
}