{
  "nbformat": 4,
  "nbformat_minor": 0,
  "metadata": {
    "colab": {
      "name": "Project 4.ipynb",
      "provenance": [],
      "include_colab_link": true
    },
    "kernelspec": {
      "name": "python3",
      "display_name": "Python 3"
    }
  },
  "cells": [
    {
      "cell_type": "markdown",
      "metadata": {
        "id": "view-in-github",
        "colab_type": "text"
      },
      "source": [
        "<a href=\"https://colab.research.google.com/github/0o0liver/Going_Back_to_Work/blob/master/Project_4.ipynb\" target=\"_parent\"><img src=\"https://colab.research.google.com/assets/colab-badge.svg\" alt=\"Open In Colab\"/></a>"
      ]
    },
    {
      "cell_type": "markdown",
      "metadata": {
        "id": "g7pWIZC7N3VX",
        "colab_type": "text"
      },
      "source": [
        "# Demand model prediction"
      ]
    },
    {
      "cell_type": "code",
      "metadata": {
        "id": "FdSWhxqONLVV",
        "colab_type": "code",
        "colab": {
          "base_uri": "https://localhost:8080/",
          "height": 71
        },
        "outputId": "7c0d5a2d-1247-45f6-d334-cd661db8feb8"
      },
      "source": [
        "import numpy as np # linear algebra\n",
        "import pandas as pd # data processing, CSV file I/O (e.g. pd.read_csv)\n",
        "import math\n",
        "import glob, os \n",
        "import matplotlib.pyplot as plt\n",
        "import statsmodels.api as sm\n",
        "from sklearn import metrics\n",
        "from datetime import datetime, timedelta\n",
        "from functools import partial\n",
        "from IPython.core.debugger import set_trace\n",
        "%matplotlib inline"
      ],
      "execution_count": 2,
      "outputs": [
        {
          "output_type": "stream",
          "text": [
            "/usr/local/lib/python3.6/dist-packages/statsmodels/tools/_testing.py:19: FutureWarning: pandas.util.testing is deprecated. Use the functions in the public API at pandas.testing instead.\n",
            "  import pandas.util.testing as tm\n"
          ],
          "name": "stderr"
        }
      ]
    },
    {
      "cell_type": "code",
      "metadata": {
        "id": "Ufio9_vNNOzq",
        "colab_type": "code",
        "colab": {}
      },
      "source": [
        "!wget -q https://raw.githubusercontent.com/0o0liver/Going_Back_to_Work/master/datasets/resultant_data/dropoff_200_west_street_nyc_2010.csv\n",
        "!wget -q https://raw.githubusercontent.com/0o0liver/Going_Back_to_Work/master/datasets/resultant_data/dropoff_200_west_street_nyc_2011.csv\n",
        "!wget -q https://raw.githubusercontent.com/0o0liver/Going_Back_to_Work/master/datasets/resultant_data/dropoff_200_west_street_nyc_2012.csv\n",
        "!wget -q https://raw.githubusercontent.com/0o0liver/Going_Back_to_Work/master/datasets/resultant_data/dropoff_200_west_street_nyc_2013.csv"
      ],
      "execution_count": 0,
      "outputs": []
    },
    {
      "cell_type": "code",
      "metadata": {
        "id": "Am0CPoitNPfr",
        "colab_type": "code",
        "colab": {}
      },
      "source": [
        "all_files = glob.glob(os.path.join('/content', \"*.csv\"))\n",
        "df = pd.concat((pd.read_csv(f, parse_dates=[0], index_col=0, usecols=[0], date_parser=pd.to_datetime) for f in all_files))"
      ],
      "execution_count": 0,
      "outputs": []
    },
    {
      "cell_type": "code",
      "metadata": {
        "id": "7itFXDWWNReq",
        "colab_type": "code",
        "colab": {}
      },
      "source": [
        "df_copy = df.copy()\n",
        "df_copy['count'] = 1.\n",
        "df_copy = df_copy.resample(\"30min\").sum()\n",
        "df_copy = df_copy.loc[:'2013-05-01'] # filter out last days of december "
      ],
      "execution_count": 0,
      "outputs": []
    },
    {
      "cell_type": "code",
      "metadata": {
        "id": "_zL9-cY8NTIL",
        "colab_type": "code",
        "outputId": "f2bf7240-ee7d-4683-b54f-d33dc0885c4c",
        "colab": {
          "base_uri": "https://localhost:8080/",
          "height": 309
        }
      },
      "source": [
        "df_copy['count'].plot()"
      ],
      "execution_count": 6,
      "outputs": [
        {
          "output_type": "execute_result",
          "data": {
            "text/plain": [
              "<matplotlib.axes._subplots.AxesSubplot at 0x7f9b294bdba8>"
            ]
          },
          "metadata": {
            "tags": []
          },
          "execution_count": 6
        },
        {
          "output_type": "display_data",
          "data": {
            "image/png": "[encoded data removed]",
            "text/plain": [
              "<Figure size 432x288 with 1 Axes>"
            ]
          },
          "metadata": {
            "tags": [],
            "needs_background": "light"
          }
        }
      ]
    },
    {
      "cell_type": "code",
      "metadata": {
        "id": "w6jFiDs4NUvr",
        "colab_type": "code",
        "outputId": "0fc24c6a-09ba-407e-f6ea-0ba39f2daccd",
        "colab": {
          "base_uri": "https://localhost:8080/",
          "height": 309
        }
      },
      "source": [
        "s = df_copy['count']\n",
        "X = s.where(s > 0, 0.1) # cannot have 0 values for holt-winters\n",
        "size = int(len(X)-48) # 2 periods per hour, 24 hours per day = 48 periods per day\n",
        "train, test = X[0:size], X[size:len(X)]\n",
        "test.plot()"
      ],
      "execution_count": 7,
      "outputs": [
        {
          "output_type": "execute_result",
          "data": {
            "text/plain": [
              "<matplotlib.axes._subplots.AxesSubplot at 0x7f9b28813eb8>"
            ]
          },
          "metadata": {
            "tags": []
          },
          "execution_count": 7
        },
        {
          "output_type": "display_data",
          "data": {
            "image/png": "[encoded data removed]",
            "text/plain": [
              "<Figure size 432x288 with 1 Axes>"
            ]
          },
          "metadata": {
            "tags": [],
            "needs_background": "light"
          }
        }
      ]
    },
    {
      "cell_type": "code",
      "metadata": {
        "id": "GybY-H3pNWmj",
        "colab_type": "code",
        "outputId": "b6580aa4-01ab-4ef0-b7c0-7bcec8af092e",
        "colab": {
          "base_uri": "https://localhost:8080/",
          "height": 485
        }
      },
      "source": [
        "fit1 = sm.tsa.ExponentialSmoothing(train, seasonal_periods=336, trend='add', seasonal='add').fit(use_boxcox=True)\n",
        "\n",
        "results=pd.DataFrame(index=[r\"$\\alpha$\",r\"$\\beta$\",r\"$\\phi$\",r\"$\\gamma$\",r\"$l_0$\",\"$b_0$\",\"SSE\"])\n",
        "params = ['smoothing_level', 'smoothing_slope', 'damping_slope', 'smoothing_seasonal', 'initial_level', 'initial_slope']\n",
        "results[\"Additive\"]       = [fit1.params[p] for p in params] + [fit1.sse]\n",
        "\n",
        "ax = test.plot(figsize=(10,6), marker='o', color='black', title=\"Forecasts from Holt-Winters' additive method\" )\n",
        "\n",
        "yhat = fit1.forecast(len(X)-size).rename('requests').round()\n",
        "\n",
        "error = metrics.mean_squared_error(test.values.ravel(), yhat.values.ravel())\n",
        "print('Test MSE: %.3f' % error)\n",
        "\n",
        "yhat.plot(ax=ax, style='--', marker='o', color='red', legend=True)\n",
        "\n",
        "plt.show()\n",
        "print(\"Figure 1\")"
      ],
      "execution_count": 8,
      "outputs": [
        {
          "output_type": "stream",
          "text": [
            "/usr/local/lib/python3.6/dist-packages/statsmodels/tsa/holtwinters.py:712: ConvergenceWarning: Optimization failed to converge. Check mle_retvals.\n",
            "  ConvergenceWarning)\n"
          ],
          "name": "stderr"
        },
        {
          "output_type": "stream",
          "text": [
            "Test MSE: 15.279\n"
          ],
          "name": "stdout"
        },
        {
          "output_type": "display_data",
          "data": {
            "image/png": "[encoded data removed]",
            "text/plain": [
              "<Figure size 720x432 with 1 Axes>"
            ]
          },
          "metadata": {
            "tags": [],
            "needs_background": "light"
          }
        },
        {
          "output_type": "stream",
          "text": [
            "Figure 1\n"
          ],
          "name": "stdout"
        }
      ]
    },
    {
      "cell_type": "markdown",
      "metadata": {
        "id": "XoTXpEisqLbZ",
        "colab_type": "text"
      },
      "source": [
        "# Helper Functions\n",
        "\n",
        "A helper function to generate duration length (which was not present in our data)"
      ]
    },
    {
      "cell_type": "code",
      "metadata": {
        "id": "bXNcLr9QqMt7",
        "colab_type": "code",
        "colab": {}
      },
      "source": [
        "from scipy.stats import poisson\n",
        "# setup poisson number generator\n",
        "mu=6\n",
        "rv = poisson(mu, loc=1)\n",
        "\n",
        "# Generates a duration selecting from poisson distribution\n",
        "def generate_duration(demand, shuffle = True, remove_zeroes = True):\n",
        "  requests = []\n",
        "  for index, value in demand.items():\n",
        "    if not remove_zeroes and int(value) == 0:\n",
        "      d = {\n",
        "          'datetime' : index,\n",
        "          'duration' : 0\n",
        "      }\n",
        "      requests.append(d)\n",
        "    for _ in range(int(value)):\n",
        "      d = {\n",
        "          'datetime' : index,\n",
        "          'duration' : rv.rvs()\n",
        "      }\n",
        "      requests.append(d)\n",
        "\n",
        "  requests_df = pd.DataFrame(requests)\n",
        "  if shuffle: requests_df = requests_df.sample(frac=1)\n",
        "  return requests_df"
      ],
      "execution_count": 0,
      "outputs": []
    },
    {
      "cell_type": "markdown",
      "metadata": {
        "id": "x4aMxC2SN1Zk",
        "colab_type": "text"
      },
      "source": [
        "# Prioritized Planner"
      ]
    },
    {
      "cell_type": "code",
      "metadata": {
        "id": "uhlatAfIqPOB",
        "colab_type": "code",
        "colab": {}
      },
      "source": [
        "class prioritized_planner:\n",
        "  def __init__(self, demand_model, threshold):\n",
        "    '''\n",
        "    demand_model: np.Serise(timestamp, float)\n",
        "    threshold: safety threshold for the building, int type.\n",
        "    '''\n",
        "    self.demand_model = dict()\n",
        "    self.current_occupation = dict()\n",
        "    for i, row in demand_model.iterrows():\n",
        "      self.demand_model[str(row[\"datetime\"]).split(\" \")[-1]] = int(row[\"duration\"])\n",
        "      self.current_occupation[str(row[\"datetime\"]).split(\" \")[-1]] = 0\n",
        "    self.threshold = threshold \n",
        "    self.key_lst = list(self.current_occupation.keys())\n",
        "    self.total_request = 0\n",
        "    self.approved_request = 0\n",
        "\n",
        "  def approval_rate(self):\n",
        "    return self.approved_request / self.total_request\n",
        "\n",
        "  def utilization(self):\n",
        "    area_accumulator = 0\n",
        "    for v in self.current_occupation.values():\n",
        "      area_accumulator += v\n",
        "    return area_accumulator / (len(self.current_occupation)*self.threshold)\n",
        "\n",
        "  def show_demand(self):\n",
        "    '''\n",
        "    Print demand model\n",
        "    '''\n",
        "    print(\"Building demand model:\")\n",
        "    plt.bar(self.demand_model.keys(), self.demand_model.values())\n",
        "    plt.show()\n",
        "\n",
        "  def show_current(self):\n",
        "    '''\n",
        "    Print current state\n",
        "    '''\n",
        "    print(\"Safety threshold:\", self.threshold)\n",
        "    print(\"Building current state:\")\n",
        "    lists = sorted(self.current_occupation.items()) # sorted by key, return a list of tuples\n",
        "    x, y = zip(*lists) # unpack a list of pairs into two tuples\n",
        "    plt.bar(x, y)\n",
        "    plt.show()\n",
        "\n",
        "  def add_occupant(self, arrival_time, len_of_stay):\n",
        "    '''\n",
        "    Update the current state of the building.\n",
        "    '''\n",
        "    arrival_time_index = self.key_lst.index(arrival_time)\n",
        "    request_time_slot = self.key_lst[arrival_time_index:arrival_time_index+len_of_stay]\n",
        "    for key in request_time_slot:\n",
        "      self.current_occupation[key] += 1\n",
        "\n",
        "  def check_availability(self, arrival_time, len_of_stay):\n",
        "    '''\n",
        "    arrival_time: hh:mm:ss\n",
        "    len_of_stay: number of 30 min block, len_of_stay = 2 would mean that requester wants to stay for one hour.\n",
        "    '''\n",
        "    arrival_time_index = self.key_lst.index(arrival_time)\n",
        "    request_time_slot = self.key_lst[arrival_time_index:arrival_time_index+len_of_stay]\n",
        "    for key in request_time_slot:\n",
        "      if self.current_occupation[key] >= self.threshold:\n",
        "        return False\n",
        "    return True\n",
        "  \n",
        "  def check_priority(self, arrival_time, len_of_stay):\n",
        "    '''\n",
        "    Determine if a request should be approved accoriding to priority.\n",
        "    The goal is to fit as many people as possible. \n",
        "    '''\n",
        "    if len_of_stay <= 2:\n",
        "      return True\n",
        "    count = 0\n",
        "    arrival_time_index = self.key_lst.index(arrival_time)\n",
        "    request_time_slot = self.key_lst[arrival_time_index+1:arrival_time_index+len_of_stay]\n",
        "    for key in request_time_slot:\n",
        "      if self.threshold - self.current_occupation[key] == 1 and self.demand_model[key] >= self.threshold:\n",
        "        count += 1\n",
        "    if count > 1:\n",
        "      return False\n",
        "    return True \n",
        "\n",
        "  def request(self, arrival_time, len_of_stay):\n",
        "    '''\n",
        "    arrival_time: hh:mm:ss\n",
        "    len_of_stay: number of 30 min block, len_of_stay = 2 would mean that requester wants to stay for one hour.\n",
        "    '''\n",
        "    try:\n",
        "      self.total_request += 1\n",
        "      if not self.check_availability(arrival_time, len_of_stay):\n",
        "        return\n",
        "      if not self.check_priority(arrival_time, len_of_stay):\n",
        "        return\n",
        "      self.approved_request += 1\n",
        "      self.add_occupant(arrival_time, len_of_stay)\n",
        "      return \n",
        "    except ValueError:\n",
        "      return \n"
      ],
      "execution_count": 0,
      "outputs": []
    },
    {
      "cell_type": "markdown",
      "metadata": {
        "id": "oF2QW-Ri0yDF",
        "colab_type": "text"
      },
      "source": [
        "# First Come First Serve"
      ]
    },
    {
      "cell_type": "code",
      "metadata": {
        "id": "BX8JbqcF0yuT",
        "colab_type": "code",
        "colab": {}
      },
      "source": [
        "class fcfs:\n",
        "  def __init__(self, demand_model, threshold):\n",
        "    '''\n",
        "    demand_model: np.Serise(timestamp, float)\n",
        "    threshold: safety threshold for the building, int type.\n",
        "    '''\n",
        "    self.demand_model = demand_model\n",
        "    self.current_occupation = {k:0 for k in demand_model['datetime']}\n",
        "    self.threshold = threshold \n",
        "    self.approved_requests = 0\n",
        "    self.total_requests = 0\n",
        "\n",
        "  def approval_rate(self):\n",
        "    return self.approved_requests / self.total_requests\n",
        "\n",
        "  def utilization(self):\n",
        "    area_accumulator = 0\n",
        "    for v in self.current_occupation.values():\n",
        "      area_accumulator += v\n",
        "    return area_accumulator / (len(self.current_occupation)*self.threshold)\n",
        "\n",
        "  def show_current(self):\n",
        "    '''\n",
        "    Print current state\n",
        "    '''\n",
        "    print(\"Safety threshold:\", self.threshold)\n",
        "    print(\"Building current state:\")\n",
        "    lists = sorted(self.current_occupation.items()) # sorted by key, return a list of tuples\n",
        "    x, y = zip(*lists) # unpack a list of pairs into two tuples\n",
        "    plt.bar(x, y)\n",
        "    plt.show()\n",
        "\n",
        "  def add_occupant(self, arrival_time, len_of_stay):\n",
        "    '''\n",
        "    Update the current state of the building.\n",
        "    '''\n",
        "    for _ in range(len_of_stay):\n",
        "      if arrival_time not in self.current_occupation: self.current_occupation[time] = 0\n",
        "      self.current_occupation[arrival_time] += 1\n",
        "      arrival_time = arrival_time + timedelta(minutes=30)\n",
        "\n",
        "  def check_availability(self, arrival_time, len_of_stay):\n",
        "    '''\n",
        "    arrival_time: hh:mm:ss\n",
        "    len_of_stay: number of 30 min block, len_of_stay = 2 would mean that requester wants to stay for one hour.\n",
        "    '''\n",
        "    for _ in range(len_of_stay):\n",
        "      if arrival_time not in self.current_occupation: self.current_occupation[arrival_time] = 0\n",
        "      if self.current_occupation[arrival_time] >= self.threshold:\n",
        "        return False\n",
        "      arrival_time = arrival_time + timedelta(minutes=30)\n",
        "    return True\n",
        "\n",
        "  def request(self, arrival_time, len_of_stay):\n",
        "    '''\n",
        "    arrival_time: hh:mm:ss\n",
        "    len_of_stay: number of 30 min block, len_of_stay = 2 would mean that requester wants to stay for one hour.\n",
        "    '''\n",
        "    try:\n",
        "      self.total_requests += 1\n",
        "      if not self.check_availability(arrival_time, len_of_stay):\n",
        "        self.approved_requests += 1\n",
        "        return True\n",
        "      self.add_occupant(arrival_time, len_of_stay)\n",
        "      return False\n",
        "    except ValueError:\n",
        "      print(\"Please format arrival_time correctly.\")\n",
        "      return False\n"
      ],
      "execution_count": 0,
      "outputs": []
    },
    {
      "cell_type": "markdown",
      "metadata": {
        "id": "tNKjBNGssPvT",
        "colab_type": "text"
      },
      "source": [
        "# Greedy Local Search"
      ]
    },
    {
      "cell_type": "code",
      "metadata": {
        "id": "7w1IUZgpsRis",
        "colab_type": "code",
        "colab": {}
      },
      "source": [
        "class greedy:\n",
        "  def __init__(self, demand_model, threshold):\n",
        "    '''\n",
        "    demand_model: pandas dataframe (int, timestamp, float) in sorted order\n",
        "    threshold: safety threshold for the building, int type.\n",
        "    '''\n",
        "    self.demand_model = demand_model\n",
        "    self.optimal_appointments = self.hill_climb(demand_model, threshold)\n",
        "    self.optimal_appointments_mutable = self.optimal_appointments.copy()\n",
        "    self.current_occupation = {k:0 for k in demand_model['datetime']}\n",
        "    self.threshold = threshold \n",
        "    self.total_requests = 0.\n",
        "    self.approved_requests = 0.\n",
        "\n",
        "  def approval_rate(self):\n",
        "    return self.approved_requests / self.total_requests\n",
        "\n",
        "  def utilization(self):\n",
        "    area_accumulator = 0\n",
        "    for v in self.current_occupation.values():\n",
        "      area_accumulator += v\n",
        "    return area_accumulator / (len(self.current_occupation)*self.threshold)\n",
        "\n",
        "  def calculate_occupancy(self, appointments):\n",
        "    occupancy={}\n",
        "    for i,row in appointments.iterrows():\n",
        "      time = row['datetime']\n",
        "      for _ in range(row['duration']):\n",
        "        if time not in occupancy: occupancy[time] = []\n",
        "        occupancy[time].append(i)\n",
        "        time = time + timedelta(minutes=30)\n",
        "    return occupancy\n",
        "\n",
        "  def hill_climb(self, demand_model, threshold):\n",
        "    # construct a mapping from time block to all appointments that want to use\n",
        "    # that time block\n",
        "    occupancy = self.calculate_occupancy(demand_model)\n",
        "\n",
        "    # Trim our appointments. First assign a value to each appointment =\n",
        "    # number of blocks - number of blocks that are over the threshold\n",
        "    appointments = demand_model.copy()\n",
        "    appointments['value'] = 0\n",
        "    while True:\n",
        "      lowest_value = 0\n",
        "      lowest_negative_value_idx = -1\n",
        "      for i,row in appointments.iterrows():\n",
        "        time = row['datetime']\n",
        "        cost_accumulator = 0\n",
        "        for _ in range(row['duration']):\n",
        "          cost = threshold - len(occupancy[time]) - 1\n",
        "          if cost < 0: cost_accumulator += cost\n",
        "        value = row['duration'] + cost_accumulator\n",
        "        appointments.at[i, 'value'] = value # this line doesn't work...\n",
        "        if value < lowest_value:\n",
        "          lowest_value = value\n",
        "          if value < 0: lowest_negative_value_idx = i\n",
        "\n",
        "      # Remove the appointment with the minimum value and update occupancy\n",
        "      if lowest_negative_value_idx >= 0:\n",
        "        row = appointments.loc[lowest_negative_value_idx]\n",
        "        time = row['datetime']\n",
        "        for _ in range(row['duration']):\n",
        "          occupancy[time].remove(lowest_negative_value_idx)\n",
        "          time = time + timedelta(minutes=30)\n",
        "        appointments = appointments.drop(lowest_negative_value_idx)\n",
        "      else:\n",
        "        break\n",
        "\n",
        "    return appointments\n",
        "\n",
        "  def show_demand(self):\n",
        "    '''\n",
        "    Print demand model\n",
        "    '''\n",
        "    print(\"Building demand model:\")\n",
        "    demand_model.drop('duration').groupby('datetime').sum().plot(ax=ax, style='--', marker='o', color='red', legend=True)\n",
        "\n",
        "  def show_optimal_occupancy(self):\n",
        "    occupancy = calculate_occupancy(demand_model)\n",
        "    # plot\n",
        "    lists = sorted(occupancy.items()) # sorted by key, return a list of tuples\n",
        "    x, y = zip(*lists) # unpack a list of pairs into two tuples\n",
        "    y = [len(row) for row in y]\n",
        "    plt.bar(x, y)\n",
        "    plt.show()\n",
        "\n",
        "  def show_current(self):\n",
        "    '''\n",
        "    Print current state\n",
        "    '''\n",
        "    print(\"Safety threshold:\", self.threshold)\n",
        "    print(\"Building current state:\")\n",
        "    lists = sorted(self.current_occupation.items()) # sorted by key, return a list of tuples\n",
        "    x, y = zip(*lists) # unpack a list of pairs into two tuples\n",
        "    plt.bar(x, y)\n",
        "    plt.show()\n",
        "\n",
        "  def add_occupant(self, arrival_time, len_of_stay):\n",
        "    '''\n",
        "    Update the current state of the building.\n",
        "    '''\n",
        "    for _ in range(len_of_stay):\n",
        "      if arrival_time not in self.current_occupation: self.current_occupation[arriaval_time] = 0\n",
        "      self.current_occupation[arrival_time] += 1\n",
        "      arrival_time = arrival_time + timedelta(minutes=30)\n",
        "\n",
        "  def check_availability(self, arrival_time, len_of_stay):\n",
        "    '''\n",
        "    arrival_time: hh:mm:ss\n",
        "    len_of_stay: number of 30 min block, len_of_stay = 2 would mean that requester wants to stay for one hour.\n",
        "    '''\n",
        "    for _ in range(len_of_stay):\n",
        "      if arrival_time not in self.current_occupation: self.current_occupation[arrival_time] = 0\n",
        "      if self.current_occupation[arrival_time] >= self.threshold:\n",
        "        return False\n",
        "      arrival_time = arrival_time + timedelta(minutes=30)\n",
        "    return True\n",
        "  \n",
        "  def check_priority(self, arrival_time, len_of_stay):\n",
        "    '''\n",
        "    Determine if a request should be approved accoriding to priority.\n",
        "    Our policy is if the request is on our optimal schedule, then we approve\n",
        "    If it is longer than any thing in our optimal  \n",
        "    '''\n",
        "    appointment = self.optimal_appointments_mutable[(self.optimal_appointments_mutable['datetime']==arrival_time) & (self.optimal_appointments_mutable['duration']==len_of_stay)]\n",
        "    # if there is an appointment in our optimal that matches, use it\n",
        "    if appointment.shape[0] > 0:\n",
        "      self.optimal_appointments_mutable.drop(appointment.head(1).index)\n",
        "      return True\n",
        "    else:\n",
        "      # if its not in our optimal appointments, we still want to check if we can fit it\n",
        "      reserved_occupancy = self.calculate_occupancy(self.optimal_appointments_mutable)\n",
        "      fits = False\n",
        "      for _ in range(len_of_stay):\n",
        "        if arrival_time not in reserved_occupancy: reserved_occupancy[arrival_time] = [-1]\n",
        "        if arrival_time not in self.current_occupation: self.current_occupation[arrival_time] = 0\n",
        "        if len(reserved_occupancy[arrival_time]) + self.current_occupation[arrival_time] <= self.threshold: fits = True\n",
        "        else: \n",
        "          fits = False\n",
        "          break\n",
        "        arrival_time = arrival_time + timedelta(minutes=30)\n",
        "    # otherwise reject it\n",
        "    return fits\n",
        "\n",
        "  def request(self, arrival_time, len_of_stay):\n",
        "    '''\n",
        "    arrival_time: hh:mm:ss\n",
        "    len_of_stay: number of 30 min block, len_of_stay = 2 would mean that requester wants to stay for one hour.\n",
        "    '''\n",
        "    try:\n",
        "      self.total_requests += 1\n",
        "      if not self.check_priority(arrival_time, len_of_stay):\n",
        "        return False\n",
        "      if not self.check_availability(arrival_time, len_of_stay):\n",
        "        return True\n",
        "      self.approved_requests += 1\n",
        "      self.add_occupant(arrival_time, len_of_stay)\n",
        "      return True\n",
        "    except ValueError:\n",
        "      print(\"Please format arrival_time correctly.\")\n",
        "      return False\n"
      ],
      "execution_count": 0,
      "outputs": []
    },
    {
      "cell_type": "markdown",
      "metadata": {
        "id": "G7L3dAMr1n35",
        "colab_type": "text"
      },
      "source": [
        "# Drive our planners"
      ]
    },
    {
      "cell_type": "markdown",
      "metadata": {
        "id": "HyiapJ1a3K1Y",
        "colab_type": "text"
      },
      "source": [
        "Generate our data with a length of stay"
      ]
    },
    {
      "cell_type": "code",
      "metadata": {
        "id": "cGMnFjy03DMt",
        "colab_type": "code",
        "colab": {}
      },
      "source": [
        "predicted = generate_duration(yhat, False, False)\n",
        "requests_df = generate_duration(test)"
      ],
      "execution_count": 0,
      "outputs": []
    },
    {
      "cell_type": "markdown",
      "metadata": {
        "id": "WDWRcI1H3Q_w",
        "colab_type": "text"
      },
      "source": [
        "Plot our requests accepting all"
      ]
    },
    {
      "cell_type": "code",
      "metadata": {
        "id": "5QCrjGP_3FuG",
        "colab_type": "code",
        "outputId": "4e110429-a5d4-4c6b-e45c-706eca6585d3",
        "colab": {
          "base_uri": "https://localhost:8080/",
          "height": 265
        }
      },
      "source": [
        "temp_occupancy = {k:0 for k in requests_df['datetime']}\n",
        "for i, row in requests_df.iterrows():\n",
        "  arrival_time = row['datetime']\n",
        "  for _ in range(row['duration']):\n",
        "    if arrival_time not in temp_occupancy: temp_occupancy[arrival_time] = 0\n",
        "    temp_occupancy[arrival_time] += 1\n",
        "    arrival_time = arrival_time + timedelta(minutes=30)\n",
        "\n",
        "# Plot\n",
        "lists = sorted(temp_occupancy.items()) # sorted by key, return a list of tuples\n",
        "x, y = zip(*lists) # unpack a list of pairs into two tuples\n",
        "plt.bar(x, y)\n",
        "plt.show()"
      ],
      "execution_count": 14,
      "outputs": [
        {
          "output_type": "display_data",
          "data": {
            "image/png": "[encoded data removed]",
            "text/plain": [
              "<Figure size 432x288 with 1 Axes>"
            ]
          },
          "metadata": {
            "tags": [],
            "needs_background": "light"
          }
        }
      ]
    },
    {
      "cell_type": "code",
      "metadata": {
        "id": "3MbD7J4ICuGT",
        "colab_type": "code",
        "colab": {
          "base_uri": "https://localhost:8080/",
          "height": 333
        },
        "outputId": "9d24141b-4906-41ce-f773-23e7af02f514"
      },
      "source": [
        "PP = prioritized_planner(predicted, 30)\n",
        "\n",
        "for i, row in requests_df.iterrows():\n",
        "  approved = PP.request(str(row['datetime']).split(\" \")[-1], row['duration'])\n",
        "\n",
        "print(\"Utilization:\", PP.utilization())\n",
        "print(\"Approval Rate:\", PP.approval_rate())\n",
        "PP.show_current()"
      ],
      "execution_count": 41,
      "outputs": [
        {
          "output_type": "stream",
          "text": [
            "Utilization: 0.5034722222222222\n",
            "Approval Rate: 0.44715447154471544\n",
            "Safety threshold: 30\n",
            "Building current state:\n"
          ],
          "name": "stdout"
        },
        {
          "output_type": "display_data",
          "data": {
            "image/png": "[encoded data removed]",
            "text/plain": [
              "<Figure size 432x288 with 1 Axes>"
            ]
          },
          "metadata": {
            "tags": [],
            "needs_background": "light"
          }
        }
      ]
    },
    {
      "cell_type": "code",
      "metadata": {
        "id": "HICs5q4WdhkF",
        "colab_type": "code",
        "outputId": "55dc6a65-86b1-4f0a-9d0e-15c43fa0fe2e",
        "colab": {
          "base_uri": "https://localhost:8080/",
          "height": 333
        }
      },
      "source": [
        "Greedy = greedy(predicted, 40)\n",
        "\n",
        "total_count = 0\n",
        "approved_count = 0\n",
        "for i, row in requests_df.iterrows():\n",
        "  approved = Greedy.request(row['datetime'], row['duration'])\n",
        "\n",
        "# Print results\n",
        "print(\"Utilization:\", Greedy.utilization())\n",
        "print(\"Approval Rate:\", Greedy.approval_rate())\n",
        "Greedy.show_current()"
      ],
      "execution_count": 33,
      "outputs": [
        {
          "output_type": "stream",
          "text": [
            "Utilization: 0.27355769230769234\n",
            "Approval Rate: 0.3780487804878049\n",
            "Safety threshold: 40\n",
            "Building current state:\n"
          ],
          "name": "stdout"
        },
        {
          "output_type": "display_data",
          "data": {
            "image/png": "[encoded data removed]",
            "text/plain": [
              "<Figure size 432x288 with 1 Axes>"
            ]
          },
          "metadata": {
            "tags": [],
            "needs_background": "light"
          }
        }
      ]
    },
    {
      "cell_type": "code",
      "metadata": {
        "id": "Q0dXcW6SqjG8",
        "colab_type": "code",
        "outputId": "84f64710-a916-4f0d-b491-65b8746dced3",
        "colab": {
          "base_uri": "https://localhost:8080/",
          "height": 333
        }
      },
      "source": [
        "Fcfs = fcfs(predicted, 40)\n",
        "\n",
        "for i, row in requests_df.iterrows():\n",
        "  Fcfs.request(row['datetime'], row['duration'])\n",
        "\n",
        "# Print results\n",
        "print(\"Utilization:\", Fcfs.utilization())\n",
        "print(\"Approval Rate:\", Fcfs.approval_rate())\n",
        "Fcfs.show_current()"
      ],
      "execution_count": 40,
      "outputs": [
        {
          "output_type": "stream",
          "text": [
            "Utilization: 0.43365384615384617\n",
            "Approval Rate: 0.44715447154471544\n",
            "Safety threshold: 40\n",
            "Building current state:\n"
          ],
          "name": "stdout"
        },
        {
          "output_type": "display_data",
          "data": {
            "image/png": "[encoded data removed]",
            "text/plain": [
              "<Figure size 432x288 with 1 Axes>"
            ]
          },
          "metadata": {
            "tags": [],
            "needs_background": "light"
          }
        }
      ]
    },
    {
      "cell_type": "markdown",
      "metadata": {
        "id": "Ml8lGvWwv0q4",
        "colab_type": "text"
      },
      "source": [
        "# Scratch Code"
      ]
    },
    {
      "cell_type": "code",
      "metadata": {
        "id": "U_A7xjOk6hlA",
        "colab_type": "code",
        "colab": {}
      },
      "source": [
        "#from collections import OrderedDict \n",
        "\n",
        "def hill_climb_test(demand_model, threshold):\n",
        "  # construct a mapping from time block to all appointments that want to use\n",
        "  # that time block\n",
        "  #occupancy=OrderedDict() \n",
        "  occupancy={}\n",
        "  appointments = demand_model.copy()\n",
        "  appointments['value'] = 0\n",
        "  for i,row in appointments.iterrows():\n",
        "    #time = row['datetime'].time()\n",
        "    time = row['datetime']\n",
        "    for _ in range(row['duration']):\n",
        "      if time not in occupancy: occupancy[time] = []\n",
        "      occupancy[time].append(i)\n",
        "      time = time + timedelta(minutes=30)\n",
        "\n",
        "  # Trim our appointments. First assign a value to each appointment =\n",
        "  # number of blocks - number of blocks that are over the threshold\n",
        "  \n",
        "  while True:\n",
        "    lowest_value = 0\n",
        "    lowest_negative_value_idx = -1\n",
        "    for i,row in appointments.iterrows():\n",
        "      time = row['datetime']\n",
        "      cost_accumulator = 0\n",
        "      for _ in range(row['duration']):\n",
        "        cost = threshold - len(occupancy[time]) - 1\n",
        "        if cost < 0: cost_accumulator += cost\n",
        "      value = row['duration'] + cost_accumulator\n",
        "      appointments.at[i, 'value'] = value # this line doesn't work...\n",
        "      if value < lowest_value:\n",
        "        lowest_value = value\n",
        "        if value < 0: lowest_negative_value_idx = i\n",
        "\n",
        "    # Remove the appointment with the minimum value and update occupancy\n",
        "    if lowest_negative_value_idx >= 0:\n",
        "      row = appointments.loc[lowest_negative_value_idx]\n",
        "      time = row['datetime']\n",
        "      for _ in range(row['duration']):\n",
        "        occupancy[time].remove(lowest_negative_value_idx)\n",
        "        time = time + timedelta(minutes=30)\n",
        "      appointments = appointments.drop(lowest_negative_value_idx)\n",
        "    else:\n",
        "      break\n",
        "\n",
        "  # plot\n",
        "  lists = sorted(occupancy.items()) # sorted by key, return a list of tuples\n",
        "  x, y = zip(*lists) # unpack a list of pairs into two tuples\n",
        "  y = [len(row) for row in y]\n",
        "  print('x',x)\n",
        "  print('y',y)\n",
        "  plt.bar(x, y)\n",
        "  plt.show()\n",
        "  return appointments"
      ],
      "execution_count": 0,
      "outputs": []
    },
    {
      "cell_type": "code",
      "metadata": {
        "id": "AuhRoseN_HPZ",
        "colab_type": "code",
        "colab": {}
      },
      "source": [
        "temp = generate_duration(test, False, False)\n",
        "# Test our hill climb\n",
        "hill_climb_test(temp, 15)\n",
        "\n",
        "# Compare to FCFS\n",
        "Fcfs = fcfs(yhat, 15)\n",
        "shuffled_temp = temp.sample(frac=1)\n",
        "for i, row in shuffled_temp.iterrows():\n",
        "  Fcfs.request(str(row['datetime'].time()), row['duration'])\n",
        "Fcfs.show_current()"
      ],
      "execution_count": 0,
      "outputs": []
    },
    {
      "cell_type": "code",
      "metadata": {
        "id": "e0r7dE4wRbjn",
        "colab_type": "code",
        "colab": {}
      },
      "source": [
        "temp_df = pd.DataFrame([[0, 2, 3], [0, 4, 1], [10, 20, 30]], columns=['A', 'B', 'C'])"
      ],
      "execution_count": 0,
      "outputs": []
    },
    {
      "cell_type": "code",
      "metadata": {
        "id": "JD-AY4EeR1sb",
        "colab_type": "code",
        "colab": {}
      },
      "source": [
        "temp_df = temp_df.drop(1)"
      ],
      "execution_count": 0,
      "outputs": []
    },
    {
      "cell_type": "code",
      "metadata": {
        "id": "RTDOT2c0R7yb",
        "colab_type": "code",
        "colab": {}
      },
      "source": [
        "for i,v in temp_df.iterrows():\n",
        "  print(i)"
      ],
      "execution_count": 0,
      "outputs": []
    }
  ]
}